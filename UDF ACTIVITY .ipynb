{
 "cells": [
  {
   "cell_type": "markdown",
   "metadata": {},
   "source": [
    "#  19B-43-SE"
   ]
  },
  {
   "cell_type": "markdown",
   "metadata": {},
   "source": [
    "# Python User Define Function Practice Activity - 2 "
   ]
  },
  {
   "cell_type": "markdown",
   "metadata": {},
   "source": [
    "Asst. Prof. Syed Faisal Ali              $\\;\\;\\;\\;\\;\\;$              Programming Fundamentals - FALL 2019 $\\;\\;\\;\\;\\;\\;$ Software Engineering                     $\\;\\;\\;\\;\\;\\;$                   Dated: 27 Nov 2019"
   ]
  },
  {
   "cell_type": "markdown",
   "metadata": {},
   "source": [
    "Question 1: Create a function to find the following:\n",
    "If the base of triangle is 3 cm long and its equilateral triangle and the radius of circle is 1.5 cm then find the area of triangle shaded. \n"
   ]
  },
  {
   "cell_type": "markdown",
   "metadata": {},
   "source": [
    "![proj](q1.jpg)"
   ]
  },
  {
   "cell_type": "code",
   "execution_count": 1,
   "metadata": {},
   "outputs": [
    {
     "name": "stdout",
     "output_type": "stream",
     "text": [
      "enter the base of triangle: 3\n",
      "enter radius: 1.5\n",
      "height 2.598076211353316 m\n",
      "area 3.897114317029974 cm^2\n",
      "the area of the triangle shaded is:  16.31410243160281 cm^2\n"
     ]
    }
   ],
   "source": [
    "from math import sin,pi\n",
    "def areashade(base,radius):\n",
    "    height = base*(sin(60*pi/180))\n",
    "    area = (1/2)*height*base\n",
    "    area_of_circle = pi*radius**2\n",
    "    area_shaded = (area*6)-(area_of_circle)\n",
    "    print(\"height\",height,\"m\")\n",
    "    print(\"area\",area,\"cm^2\")\n",
    "    print(\"the area of the triangle shaded is: \",area_shaded,\"cm^2\")\n",
    "    return\n",
    "base = eval(input(\"enter the base of triangle: \"))\n",
    "radius = eval(input(\"enter radius: \"))\n",
    "areashade(base,radius)\n",
    "    "
   ]
  },
  {
   "cell_type": "markdown",
   "metadata": {},
   "source": [
    "Question 2: Create a function which can read a dictionary of your family members such as 5 members. \n",
    "1 Abbu, 1 Ammi, 2 Brothers 1 Sister. Now feed this data in dictionary in terms of name and relations.\n",
    "The UDF will ask findrelation() in this you will enter Brother it will return the names of two brothers you have inserted. In case if the relation is not found it will return “Sorry the relation doesn’t exist in your family.” \n"
   ]
  },
  {
   "cell_type": "code",
   "execution_count": 2,
   "metadata": {},
   "outputs": [
    {
     "name": "stdout",
     "output_type": "stream",
     "text": [
      "find relation ships: father\n",
      "name:  SHAHBAZ QAMAR\n",
      "\n",
      "\n",
      "find relation ships: ariba\n",
      "not valid!\n"
     ]
    }
   ],
   "source": [
    "def findrelationship(x):\n",
    "    family = {\"father\":\"SHAHBAZ QAMAR\",\"mother\":\"ROZINA SHAHBAZ\",\"brother\":\"ALIYAN SHAHBAZ\",\"sister\":\"NIMRA\"}\n",
    "    if x == \"brother\" or x == \"sister\" or x == \"mother\" or x == \"father\":\n",
    "        print(\"name: \",family[x])\n",
    "    else:\n",
    "        print(\"not valid!\")\n",
    "    return\n",
    "x = input(\"find relation ships: \")\n",
    "findrelationship(x)\n",
    "\n",
    "print(\"\\n\")\n",
    "\n",
    "\n",
    "def findrelationship(x):\n",
    "    family = {\"father\":\"SHAHBAZ QAMAR\",\"mother\":\"ROZINA SHAHBAZ\",\"brother\":\"ALIYAN SHAHBAZ\",\"sister\":\"NIMRA\"}\n",
    "    if x == \"brother\" or x == \"sister\" or x == \"mother\" or x == \"father\":\n",
    "        print(\"name: \",family[x])\n",
    "    else:\n",
    "        print(\"not valid!\")\n",
    "    return\n",
    "x = input(\"find relation ships: \")\n",
    "findrelationship(x)"
   ]
  },
  {
   "cell_type": "markdown",
   "metadata": {},
   "source": [
    "Question 3: Create a function to find the following:\n",
    "If the base of triangle is 5 cm long and its equilateral triangle and the radius of circle is 2.25 cm then find the area of triangle shaded. \n"
   ]
  },
  {
   "cell_type": "markdown",
   "metadata": {},
   "source": [
    "![proj](q3.jpg)"
   ]
  },
  {
   "cell_type": "code",
   "execution_count": 14,
   "metadata": {},
   "outputs": [
    {
     "name": "stdout",
     "output_type": "stream",
     "text": [
      "enter radius: 4\n",
      "shaded triangle in one triangle is:  8.377580409572781 cm^2\n"
     ]
    }
   ],
   "source": [
    "from math import pi\n",
    "def shadedarea(radius):\n",
    "    area = (pi*radius**2)/6\n",
    "    print(\"shaded triangle in one triangle is: \",area,\"cm^2\")\n",
    "    return\n",
    "radius = eval(input(\"enter radius: \"))\n",
    "shadedarea(radius)"
   ]
  },
  {
   "cell_type": "markdown",
   "metadata": {},
   "source": [
    "Question 4:\n",
    "Create a function that takes a list of random numbers from users and add only those which are even. If all the numbers are odd it will return sorry no even number found.\n"
   ]
  },
  {
   "cell_type": "code",
   "execution_count": 10,
   "metadata": {},
   "outputs": [
    {
     "name": "stdout",
     "output_type": "stream",
     "text": [
      "enter the size of list: 4\n",
      "enter the number at location:  0\n",
      "0\n",
      "enter the number at location:  1\n",
      "3\n",
      "enter the number at location:  2\n",
      "4\n",
      "enter the number at location:  3\n",
      "2\n",
      "[0, 3, 4, 2]\n",
      "sorry!this is odd number.\n",
      "[0]\n",
      "sum of even in list is: 0\n",
      "[0, 4]\n",
      "sum of even in list is: 4\n",
      "[0, 4, 2]\n",
      "sum of even in list is: 6\n"
     ]
    }
   ],
   "source": [
    "lst = []\n",
    "a = int(input(\"enter the size of list: \"))\n",
    "for i in range(0,a):\n",
    "    print(\"enter the number at location: \",i)\n",
    "    num = int(input())\n",
    "    lst.append(num)\n",
    "print(lst)\n",
    "def evenadder(lst):\n",
    "    even =[]\n",
    "    odd = []\n",
    "    for i in lst:\n",
    "        if(i%2 == 1):\n",
    "            print(\"sorry!this is odd number.\")\n",
    "            for i in lst:\n",
    "                if(i%2 == 0):\n",
    "                    even.append(i)\n",
    "                    print(even)\n",
    "                    sumofeven = sum(even)\n",
    "                    print(\"sum of even in list is:\",sumofeven)\n",
    "    return\n",
    "evenadder(lst)"
   ]
  },
  {
   "cell_type": "markdown",
   "metadata": {},
   "source": [
    "Question 5:\n",
    "Write a function which can take a list of numbers and it will return sorted list.\n"
   ]
  },
  {
   "cell_type": "code",
   "execution_count": 5,
   "metadata": {},
   "outputs": [
    {
     "name": "stdout",
     "output_type": "stream",
     "text": [
      "enter the num how many times you want: 3\n",
      "1\n",
      "6\n",
      "3\n",
      "['1', '3', '6']\n"
     ]
    }
   ],
   "source": [
    "def sortedlist(a):\n",
    "    lst=[]\n",
    "    for i in range(0,a):\n",
    "        x = input()\n",
    "        lst.append(x)\n",
    "    y = lst.sort()\n",
    "    print(lst)\n",
    "    return\n",
    "a = int(input(\"enter the num how many times you want: \"))\n",
    "sortedlist(a)"
   ]
  },
  {
   "cell_type": "markdown",
   "metadata": {},
   "source": [
    "Question 6:\n",
    "Write a function that will take the radius and return the perimeter and area of circle with 5% increment.\n"
   ]
  },
  {
   "cell_type": "code",
   "execution_count": 17,
   "metadata": {},
   "outputs": [
    {
     "name": "stdout",
     "output_type": "stream",
     "text": [
      "enter radius: 3\n",
      "radius:  3 cm\n",
      "the area of circle is:  28.274333882308138 cm^2 \n",
      "perimeter of circle is:  18.84955592153876 cm\n",
      "5% increament of area is:  57.962384458731684 cm^2 \n",
      "5% increamen of area:  38.64158963915445 cm\n"
     ]
    }
   ],
   "source": [
    "from math import pi\n",
    "def circle(radius):\n",
    "    area = pi*radius**2\n",
    "    perimeters = 2*pi*radius\n",
    "    inc_area = (area*0.05)+area\n",
    "    inc_perimeter = (perimeters*0.05)+perimeters\n",
    "    print(\"radius: \",radius,\"cm\")\n",
    "    print(\"the area of circle is: \",area,\"cm^2 \\nperimeter of circle is: \",perimeters,\"cm\")\n",
    "    print(\"5% increament of area is: \",inc_area+area,\"cm^2 \\n5% increamen of area: \",perimeters+inc_perimeter,\"cm\")\n",
    "    return\n",
    "radius = eval(input(\"enter radius: \"))\n",
    "circle(radius)"
   ]
  },
  {
   "cell_type": "markdown",
   "metadata": {},
   "source": [
    "Question 7:\n",
    "Write a function that will take the strings as argument and return number of vowels and consonants.\n"
   ]
  },
  {
   "cell_type": "code",
   "execution_count": 15,
   "metadata": {},
   "outputs": [
    {
     "name": "stdout",
     "output_type": "stream",
     "text": [
      "enter your name: ARIBA SHAHBAZ\n",
      "the num of vowels is:  ARIBA SHAHBAZ is:  5 \n",
      "the num of consonents is:  ARIBA SHAHBAZ is:  8\n"
     ]
    }
   ],
   "source": [
    "def counter(name):\n",
    "    vowel = 0\n",
    "    consonent = 0\n",
    "    for i in name:\n",
    "        if i in \"AEIOUaeiou\":\n",
    "            vowel = vowel + 1\n",
    "        else:\n",
    "            consonent = consonent + 1\n",
    "    print(\"the num of vowels is: \",name,\"is: \",vowel,\"\\nthe num of consonents is: \",name,\"is: \",consonent)\n",
    "    return\n",
    "name = str(input(\"enter your name: \"))\n",
    "counter(name)"
   ]
  },
  {
   "cell_type": "markdown",
   "metadata": {},
   "source": [
    "Question 8:\n",
    "Write a function that will take length and breadth for a rectangle and return perimeter and area of rectangle with 8% increment.\n"
   ]
  },
  {
   "cell_type": "code",
   "execution_count": 18,
   "metadata": {},
   "outputs": [
    {
     "name": "stdout",
     "output_type": "stream",
     "text": [
      "enter length: 3\n",
      "enter breadth: 4\n",
      "length:  3 m\n",
      "the area of rectangle is:  12 cm^2 \n",
      "perimeter of rectangle is:  14 cm\n",
      "5% increament of rectangle is:  24.96 cm^2 \n",
      "5% increament of area:  29.12 cm\n"
     ]
    }
   ],
   "source": [
    "from math import pi\n",
    "def rectangle(length,breadth):\n",
    "    area = length*breadth\n",
    "    perimeters = 2*(length+breadth)\n",
    "    inc_area = (area*0.08)+area\n",
    "    inc_perimeter = (perimeters*0.08)+perimeters\n",
    "    print(\"length: \",length,\"m\")\n",
    "    print(\"the area of rectangle is: \",area,\"cm^2 \\nperimeter of rectangle is: \",perimeters,\"cm\")\n",
    "    print(\"5% increament of rectangle is: \",inc_area+area,\"cm^2 \\n5% increament of area: \",perimeters+inc_perimeter,\n",
    "          \"cm\")\n",
    "    return\n",
    "length = eval(input(\"enter length: \"))\n",
    "breadth = eval(input(\"enter breadth: \"))\n",
    "rectangle(length,breadth)"
   ]
  },
  {
   "cell_type": "markdown",
   "metadata": {},
   "source": [
    "Question 9:\n",
    "Write a function that can take the numbers in strings. From string find which number is even and which one is odd. Save them in two different lists and generate the result.\n"
   ]
  },
  {
   "cell_type": "code",
   "execution_count": 3,
   "metadata": {},
   "outputs": [
    {
     "name": "stdout",
     "output_type": "stream",
     "text": [
      "enter the string of number you contain: there are 4 pencils for 5 persons and 6 erasers for 7 persons\n",
      "the odd list is:  [5]\n",
      "the even list is:  [4]\n",
      "the odd list is:  [5, 7]\n",
      "the even list is:  [4, 6]\n"
     ]
    }
   ],
   "source": [
    "def evenOdd(string):\n",
    "    res = [int(i) for i in string.split()if i.isdigit()]\n",
    "    even = []\n",
    "    odd = []\n",
    "    for i in res:\n",
    "        if (i%2 == 0):\n",
    "            even.append(i)\n",
    "        else:\n",
    "            odd.append(i)\n",
    "            print(\"the odd list is: \",odd)\n",
    "            print(\"the even list is: \",even)\n",
    "    return\n",
    "string = input(\"enter the string of number you contain: \")\n",
    "evenOdd(string)"
   ]
  },
  {
   "cell_type": "markdown",
   "metadata": {},
   "source": [
    "Question 10:\n",
    "Write a function which will take the string from the user and return how many alphabets have been used in it and which alphabets are missing.\n"
   ]
  },
  {
   "cell_type": "code",
   "execution_count": 15,
   "metadata": {},
   "outputs": [
    {
     "name": "stdout",
     "output_type": "stream",
     "text": [
      "cdefghijklmnopqrstuvwxyz\n",
      "zzz is missing letters abcdefghijklmnopqrstuvwxy\n",
      "subdermatoglyphic is missing letters fjknqvwxz\n",
      "the quick brown fox jumps over the lazy dog uses all the letters\n"
     ]
    }
   ],
   "source": [
    "alphabet = \"abcdefghijklmnopqrstuvwxyz\"   \n",
    "\n",
    "test_miss = [\"zzz\",\"subdermatoglyphic\",\"the quick brown fox jumps over the lazy dog\"]     \n",
    "\n",
    "def missing_letters(string):\n",
    "    result = alphabet\n",
    "    compare = set(string)\n",
    "    compare=sorted(compare)\n",
    "    for key in compare:\n",
    "        if key in alphabet:\n",
    "            result = result.replace(key,'')\n",
    "    return result         \n",
    "print(missing_letters(\"ab\"))\n",
    "\n",
    "\n",
    "for letters in test_miss: \n",
    "    if len( missing_letters(letters) ) == 0:\n",
    "        print(letters, 'uses all the letters')   \n",
    "    else:\n",
    "        print(letters , 'is missing letters', missing_letters(letters))"
   ]
  },
  {
   "cell_type": "markdown",
   "metadata": {},
   "source": [
    "Question 11:\n",
    "Write a function that will take verbs in words and return a list of verbs with continuous tense by adding (ing) at the end of each verb.\n"
   ]
  },
  {
   "cell_type": "code",
   "execution_count": 4,
   "metadata": {},
   "outputs": [
    {
     "name": "stdout",
     "output_type": "stream",
     "text": [
      "enter verb: go\n",
      "cont. tense is:  [['going']]\n"
     ]
    }
   ],
   "source": [
    "def verb(v):\n",
    "    verb_list = []\n",
    "    x = [v + \"ing\"]\n",
    "    verb_list.append(x)\n",
    "    print(\"cont. tense is: \",verb_list)\n",
    "    return\n",
    "v = str(input(\"enter verb: \"))\n",
    "verb(v)"
   ]
  },
  {
   "cell_type": "markdown",
   "metadata": {},
   "source": [
    "Question 12:\n",
    "Make a function which can take two radius of circles and find the areas of it and subtract smaller one from larger one and tell the remaining area of circle.\n"
   ]
  },
  {
   "cell_type": "code",
   "execution_count": 1,
   "metadata": {},
   "outputs": [
    {
     "name": "stdout",
     "output_type": "stream",
     "text": [
      "enter the radius of first circle: 3\n",
      "enter the radius of second circle: 4\n",
      "the area of first circle is:  28.274333882308138 cm^2\n",
      "the area of second circle is:  50.26548245743669 cm^2\n",
      "the remaining area is:  21.991148575128552 cm^2\n"
     ]
    }
   ],
   "source": [
    "from math import pi\n",
    "def area(r1,r2):\n",
    "    area1 = pi*r1**2\n",
    "    print(\"the area of first circle is: \",area1,\"cm^2\")\n",
    "    area2 = pi*r2**2\n",
    "    print(\"the area of second circle is: \",area2,\"cm^2\")\n",
    "    if r1>r2:\n",
    "        x = area1 - area2\n",
    "        print(\"the remaining area is: \",x,\"cm^2\")\n",
    "    else:\n",
    "        x = area2 - area1\n",
    "        print(\"the remaining area is: \",x,\"cm^2\")\n",
    "    return\n",
    "r1 = eval(input(\"enter the radius of first circle: \"))\n",
    "r2 = eval(input(\"enter the radius of second circle: \"))\n",
    "area(r1,r2)   "
   ]
  },
  {
   "cell_type": "markdown",
   "metadata": {},
   "source": [
    "Question 13:\n",
    "Write a function that will take a string and calculate number of Upper case letters and lower case letters.\n"
   ]
  },
  {
   "cell_type": "code",
   "execution_count": 8,
   "metadata": {},
   "outputs": [
    {
     "name": "stdout",
     "output_type": "stream",
     "text": [
      "enter your string: AReeBa\n",
      "number of lower case:  3\n",
      "number of upper case:  0\n"
     ]
    }
   ],
   "source": [
    "def counter(string):\n",
    "    count_upper = 0\n",
    "    count_lower = 0\n",
    "    for i in string:\n",
    "        if(i.islower()):\n",
    "            count_lower = count_lower + 1\n",
    "        elif(i.isupper()):\n",
    "            count_upper = count_upper\n",
    "    print(\"number of lower case: \",count_lower)\n",
    "    print(\"number of upper case: \",count_upper)\n",
    "    return\n",
    "string = str(input(\"enter your string: \"))\n",
    "counter(string)"
   ]
  },
  {
   "cell_type": "markdown",
   "metadata": {},
   "source": [
    "Question 14:\n",
    "Write a function which will take length and breadth of two rectangles. Subtract the smaller rectangle from the larger rectangle and return the area left behind.\n"
   ]
  },
  {
   "cell_type": "code",
   "execution_count": 2,
   "metadata": {},
   "outputs": [
    {
     "name": "stdout",
     "output_type": "stream",
     "text": [
      "enter the length of first rectangle: 4\n",
      "enter the length of second rectangle: 3\n",
      "enter the breadth of first rectangle: 5\n",
      "enter the breadth of second rectangle: 2\n",
      "the area of first rectangle is:  20 cm^2\n",
      "the area of second rectangle is:  6 cm^2\n",
      "the remaining area is:  14 cm^2\n"
     ]
    }
   ],
   "source": [
    "from math import pi\n",
    "def area(l1,l2,b1,b2):\n",
    "    area1 = l1 * b1\n",
    "    print(\"the area of first rectangle is: \",area1,\"cm^2\")\n",
    "    area2 = l2 * b2\n",
    "    print(\"the area of second rectangle is: \",area2,\"cm^2\")\n",
    "    if l1>l2 or b1>b2:\n",
    "        x = area1 - area2\n",
    "        print(\"the remaining area is: \",x,\"cm^2\")\n",
    "    else:\n",
    "        x = area2 - area1\n",
    "        print(\"the remaining area is: \",x,\"cm^2\")\n",
    "    return\n",
    "l1 = eval(input(\"enter the length of first rectangle: \"))\n",
    "l2 = eval(input(\"enter the length of second rectangle: \"))\n",
    "b1 = eval(input(\"enter the breadth of first rectangle: \"))\n",
    "b2 = eval(input(\"enter the breadth of second rectangle: \"))\n",
    "area(l1,l2,b1,b2)"
   ]
  },
  {
   "cell_type": "markdown",
   "metadata": {},
   "source": [
    "Question 15:\n",
    "Create a function that can add the fractions in series such as 1 to 8 = 1/8+1/7+1/6+1/5 …… ½ and return the result in fraction not in decimal.\n"
   ]
  },
  {
   "cell_type": "code",
   "execution_count": 6,
   "metadata": {},
   "outputs": [
    {
     "name": "stdout",
     "output_type": "stream",
     "text": [
      "enter starting value of series: 1\n",
      "enter ending value of series: 7\n",
      "the sum of fraction is:  49/20\n"
     ]
    }
   ],
   "source": [
    "from fractions import Fraction\n",
    "def addFraction(st_value,lt_value):\n",
    "    sum = 0\n",
    "    for i in range(st_value,lt_value):\n",
    "        sum = sum + Fraction(1,i)\n",
    "    print(\"the sum of fraction is: \",sum)\n",
    "    return\n",
    "st_value = int(input(\"enter starting value of series: \"))\n",
    "lt_value =  int(input(\"enter ending value of series: \"))\n",
    "addFraction(st_value,lt_value)"
   ]
  },
  {
   "cell_type": "markdown",
   "metadata": {},
   "source": [
    "Question 16:\n",
    "Write a function which will take height and base for a triangle and \n"
   ]
  },
  {
   "cell_type": "code",
   "execution_count": null,
   "metadata": {},
   "outputs": [],
   "source": []
  },
  {
   "cell_type": "markdown",
   "metadata": {},
   "source": [
    "Question 17:\n",
    "Write a function which will take a list of fruits names. The function will return how many alphabets are repetitive in the names of fruits and how many are unique letters.\n"
   ]
  },
  {
   "cell_type": "code",
   "execution_count": null,
   "metadata": {},
   "outputs": [],
   "source": []
  },
  {
   "cell_type": "markdown",
   "metadata": {},
   "source": [
    "Question 18:\n",
    "Write a function that can take square length and radius of circle. Find the area of both and subtract the smallest shape from largest one and return the remaining shape area.\n"
   ]
  },
  {
   "cell_type": "code",
   "execution_count": 7,
   "metadata": {},
   "outputs": [
    {
     "name": "stdout",
     "output_type": "stream",
     "text": [
      "enter the length of square: 6\n",
      "enter the radius of circle: 8\n",
      "the area of square is:  36 cm^2\n",
      "the area of circle is:  201.06192982974676 cm^2\n",
      "the remaining area is:  165.06192982974676 cm^2\n"
     ]
    }
   ],
   "source": [
    "from math import pi\n",
    "def area(l,r):\n",
    "    area_of_square = l**2\n",
    "    print(\"the area of square is: \",area_of_square,\"cm^2\")\n",
    "    area_of_circle = pi*r**2\n",
    "    print(\"the area of circle is: \",area_of_circle,\"cm^2\")\n",
    "    if area_of_square > area_of_square:\n",
    "        x = area_of_square - area_of_circle\n",
    "        print(\"the remaining area is: \",x,\"cm^2\")\n",
    "    else:\n",
    "        x = area_of_circle - area_of_square\n",
    "        print(\"the remaining area is: \",x,\"cm^2\")\n",
    "    return\n",
    "l = eval(input(\"enter the length of square: \"))\n",
    "r = eval(input(\"enter the radius of circle: \"))\n",
    "area(l,r)   "
   ]
  }
 ],
 "metadata": {
  "kernelspec": {
   "display_name": "Python 3",
   "language": "python",
   "name": "python3"
  },
  "language_info": {
   "codemirror_mode": {
    "name": "ipython",
    "version": 3
   },
   "file_extension": ".py",
   "mimetype": "text/x-python",
   "name": "python",
   "nbconvert_exporter": "python",
   "pygments_lexer": "ipython3",
   "version": "3.7.3"
  }
 },
 "nbformat": 4,
 "nbformat_minor": 2
}
